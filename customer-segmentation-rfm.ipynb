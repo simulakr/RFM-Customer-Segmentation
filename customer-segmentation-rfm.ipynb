{
 "cells": [
  {
   "cell_type": "markdown",
   "id": "6f64d4ec",
   "metadata": {
    "id": "jf-kucG-wsMi",
    "papermill": {
     "duration": 0.009147,
     "end_time": "2024-09-27T12:54:19.319760",
     "exception": false,
     "start_time": "2024-09-27T12:54:19.310613",
     "status": "completed"
    },
    "tags": []
   },
   "source": [
    "#Purpose of RFM Analysis:\n",
    "\n",
    "RFM analysis helps determine which customers are more valuable to the business by segmenting customers according to three criteria: Recency, Frequency and Monetary.\n",
    "\n",
    "In this way, marketing strategies can be created more effectively."
   ]
  },
  {
   "cell_type": "markdown",
   "id": "1822abac",
   "metadata": {
    "id": "ud6nyPt0vAQz",
    "papermill": {
     "duration": 0.006584,
     "end_time": "2024-09-27T12:54:19.335782",
     "exception": false,
     "start_time": "2024-09-27T12:54:19.329198",
     "status": "completed"
    },
    "tags": []
   },
   "source": [
    "##Importing Libraries"
   ]
  },
  {
   "cell_type": "code",
   "execution_count": 1,
   "id": "86ea8ba5",
   "metadata": {
    "execution": {
     "iopub.execute_input": "2024-09-27T12:54:19.351743Z",
     "iopub.status.busy": "2024-09-27T12:54:19.350663Z",
     "iopub.status.idle": "2024-09-27T12:54:20.264634Z",
     "shell.execute_reply": "2024-09-27T12:54:20.263553Z"
    },
    "id": "NF43Fja9DqzF",
    "papermill": {
     "duration": 0.924837,
     "end_time": "2024-09-27T12:54:20.267342",
     "exception": false,
     "start_time": "2024-09-27T12:54:19.342505",
     "status": "completed"
    },
    "tags": []
   },
   "outputs": [],
   "source": [
    "import pandas as pd\n",
    "import datetime as dt\n",
    "pd.set_option(\"display.max_columns\", None)\n",
    "pd.set_option(\"display.width\", 500)\n",
    "pd.set_option(\"display.expand_frame_repr\", False)\n",
    "import warnings\n",
    "warnings.filterwarnings('ignore')"
   ]
  },
  {
   "cell_type": "markdown",
   "id": "193f76e1",
   "metadata": {
    "id": "qaNq07gsvFli",
    "papermill": {
     "duration": 0.006576,
     "end_time": "2024-09-27T12:54:20.280910",
     "exception": false,
     "start_time": "2024-09-27T12:54:20.274334",
     "status": "completed"
    },
    "tags": []
   },
   "source": [
    "##Reading and Examination Dataset"
   ]
  },
  {
   "cell_type": "code",
   "execution_count": 2,
   "id": "1b260a1b",
   "metadata": {
    "execution": {
     "iopub.execute_input": "2024-09-27T12:54:20.296357Z",
     "iopub.status.busy": "2024-09-27T12:54:20.295725Z",
     "iopub.status.idle": "2024-09-27T12:54:20.357418Z",
     "shell.execute_reply": "2024-09-27T12:54:20.356223Z"
    },
    "id": "fbRfLuyId_LY",
    "outputId": "c9501018-4c96-4c3b-e1c0-bfef7cab8e0b",
    "papermill": {
     "duration": 0.072411,
     "end_time": "2024-09-27T12:54:20.360036",
     "exception": false,
     "start_time": "2024-09-27T12:54:20.287625",
     "status": "completed"
    },
    "tags": []
   },
   "outputs": [
    {
     "data": {
      "text/html": [
       "<div>\n",
       "<style scoped>\n",
       "    .dataframe tbody tr th:only-of-type {\n",
       "        vertical-align: middle;\n",
       "    }\n",
       "\n",
       "    .dataframe tbody tr th {\n",
       "        vertical-align: top;\n",
       "    }\n",
       "\n",
       "    .dataframe thead th {\n",
       "        text-align: right;\n",
       "    }\n",
       "</style>\n",
       "<table border=\"1\" class=\"dataframe\">\n",
       "  <thead>\n",
       "    <tr style=\"text-align: right;\">\n",
       "      <th></th>\n",
       "      <th>customer_id</th>\n",
       "      <th>qtt_order</th>\n",
       "      <th>total_spent</th>\n",
       "      <th>last_order</th>\n",
       "    </tr>\n",
       "  </thead>\n",
       "  <tbody>\n",
       "    <tr>\n",
       "      <th>0</th>\n",
       "      <td>0</td>\n",
       "      <td>370</td>\n",
       "      <td>189719.04</td>\n",
       "      <td>2022-10-30 07:00:00</td>\n",
       "    </tr>\n",
       "    <tr>\n",
       "      <th>1</th>\n",
       "      <td>1</td>\n",
       "      <td>48</td>\n",
       "      <td>159092.71</td>\n",
       "      <td>2022-06-30 12:00:00</td>\n",
       "    </tr>\n",
       "    <tr>\n",
       "      <th>2</th>\n",
       "      <td>2</td>\n",
       "      <td>4</td>\n",
       "      <td>28239.30</td>\n",
       "      <td>2022-08-21 01:00:00</td>\n",
       "    </tr>\n",
       "    <tr>\n",
       "      <th>3</th>\n",
       "      <td>3</td>\n",
       "      <td>157</td>\n",
       "      <td>378630.99</td>\n",
       "      <td>2022-06-30 04:00:00</td>\n",
       "    </tr>\n",
       "    <tr>\n",
       "      <th>4</th>\n",
       "      <td>4</td>\n",
       "      <td>16</td>\n",
       "      <td>84763.20</td>\n",
       "      <td>2022-03-18 20:00:00</td>\n",
       "    </tr>\n",
       "  </tbody>\n",
       "</table>\n",
       "</div>"
      ],
      "text/plain": [
       "   customer_id  qtt_order  total_spent           last_order\n",
       "0            0        370    189719.04  2022-10-30 07:00:00\n",
       "1            1         48    159092.71  2022-06-30 12:00:00\n",
       "2            2          4     28239.30  2022-08-21 01:00:00\n",
       "3            3        157    378630.99  2022-06-30 04:00:00\n",
       "4            4         16     84763.20  2022-03-18 20:00:00"
      ]
     },
     "execution_count": 2,
     "metadata": {},
     "output_type": "execute_result"
    }
   ],
   "source": [
    "df_ = pd.read_csv(\"/kaggle/input/customer-segmentation-rfm/customer_segmentation_10k.csv\")\n",
    "df =df_.copy()\n",
    "df.head()"
   ]
  },
  {
   "cell_type": "code",
   "execution_count": 3,
   "id": "2b2b2d17",
   "metadata": {
    "execution": {
     "iopub.execute_input": "2024-09-27T12:54:20.376382Z",
     "iopub.status.busy": "2024-09-27T12:54:20.375945Z",
     "iopub.status.idle": "2024-09-27T12:54:20.389702Z",
     "shell.execute_reply": "2024-09-27T12:54:20.388292Z"
    },
    "id": "4p6c9TnXfCw7",
    "outputId": "6b098a3e-7d28-49b3-d8c7-8794d8a607d5",
    "papermill": {
     "duration": 0.025006,
     "end_time": "2024-09-27T12:54:20.392510",
     "exception": false,
     "start_time": "2024-09-27T12:54:20.367504",
     "status": "completed"
    },
    "tags": []
   },
   "outputs": [
    {
     "data": {
      "text/plain": [
       "customer_id    0\n",
       "qtt_order      0\n",
       "total_spent    0\n",
       "last_order     0\n",
       "dtype: int64"
      ]
     },
     "execution_count": 3,
     "metadata": {},
     "output_type": "execute_result"
    }
   ],
   "source": [
    "df.isnull().sum()"
   ]
  },
  {
   "cell_type": "code",
   "execution_count": 4,
   "id": "08e190f6",
   "metadata": {
    "execution": {
     "iopub.execute_input": "2024-09-27T12:54:20.410675Z",
     "iopub.status.busy": "2024-09-27T12:54:20.409477Z",
     "iopub.status.idle": "2024-09-27T12:54:20.438815Z",
     "shell.execute_reply": "2024-09-27T12:54:20.437709Z"
    },
    "id": "ChTXxdBNfGi4",
    "outputId": "c40628eb-9007-4e52-ae18-9555c10347d9",
    "papermill": {
     "duration": 0.04139,
     "end_time": "2024-09-27T12:54:20.441571",
     "exception": false,
     "start_time": "2024-09-27T12:54:20.400181",
     "status": "completed"
    },
    "tags": []
   },
   "outputs": [
    {
     "data": {
      "text/html": [
       "<div>\n",
       "<style scoped>\n",
       "    .dataframe tbody tr th:only-of-type {\n",
       "        vertical-align: middle;\n",
       "    }\n",
       "\n",
       "    .dataframe tbody tr th {\n",
       "        vertical-align: top;\n",
       "    }\n",
       "\n",
       "    .dataframe thead th {\n",
       "        text-align: right;\n",
       "    }\n",
       "</style>\n",
       "<table border=\"1\" class=\"dataframe\">\n",
       "  <thead>\n",
       "    <tr style=\"text-align: right;\">\n",
       "      <th></th>\n",
       "      <th>count</th>\n",
       "      <th>mean</th>\n",
       "      <th>std</th>\n",
       "      <th>min</th>\n",
       "      <th>25%</th>\n",
       "      <th>50%</th>\n",
       "      <th>75%</th>\n",
       "      <th>max</th>\n",
       "    </tr>\n",
       "  </thead>\n",
       "  <tbody>\n",
       "    <tr>\n",
       "      <th>customer_id</th>\n",
       "      <td>10000.0</td>\n",
       "      <td>4999.500000</td>\n",
       "      <td>2886.895680</td>\n",
       "      <td>0.00</td>\n",
       "      <td>2499.7500</td>\n",
       "      <td>4999.50</td>\n",
       "      <td>7499.250</td>\n",
       "      <td>9999.00</td>\n",
       "    </tr>\n",
       "    <tr>\n",
       "      <th>qtt_order</th>\n",
       "      <td>10000.0</td>\n",
       "      <td>102.776800</td>\n",
       "      <td>135.589727</td>\n",
       "      <td>0.00</td>\n",
       "      <td>25.0000</td>\n",
       "      <td>54.00</td>\n",
       "      <td>118.000</td>\n",
       "      <td>1274.00</td>\n",
       "    </tr>\n",
       "    <tr>\n",
       "      <th>total_spent</th>\n",
       "      <td>10000.0</td>\n",
       "      <td>226520.034685</td>\n",
       "      <td>252625.646706</td>\n",
       "      <td>833.02</td>\n",
       "      <td>63397.4675</td>\n",
       "      <td>138215.65</td>\n",
       "      <td>288853.235</td>\n",
       "      <td>2181515.12</td>\n",
       "    </tr>\n",
       "  </tbody>\n",
       "</table>\n",
       "</div>"
      ],
      "text/plain": [
       "               count           mean            std     min         25%        50%         75%         max\n",
       "customer_id  10000.0    4999.500000    2886.895680    0.00   2499.7500    4999.50    7499.250     9999.00\n",
       "qtt_order    10000.0     102.776800     135.589727    0.00     25.0000      54.00     118.000     1274.00\n",
       "total_spent  10000.0  226520.034685  252625.646706  833.02  63397.4675  138215.65  288853.235  2181515.12"
      ]
     },
     "execution_count": 4,
     "metadata": {},
     "output_type": "execute_result"
    }
   ],
   "source": [
    "df.describe().T"
   ]
  },
  {
   "cell_type": "markdown",
   "id": "400d9814",
   "metadata": {
    "id": "hCLeAAeSvp3x",
    "papermill": {
     "duration": 0.007455,
     "end_time": "2024-09-27T12:54:20.456935",
     "exception": false,
     "start_time": "2024-09-27T12:54:20.449480",
     "status": "completed"
    },
    "tags": []
   },
   "source": [
    "Since 'qtt_order' is zero it may cause an error. Therefore, we remove that data from our dataset."
   ]
  },
  {
   "cell_type": "code",
   "execution_count": 5,
   "id": "7d704b1d",
   "metadata": {
    "execution": {
     "iopub.execute_input": "2024-09-27T12:54:20.475629Z",
     "iopub.status.busy": "2024-09-27T12:54:20.475157Z",
     "iopub.status.idle": "2024-09-27T12:54:20.486666Z",
     "shell.execute_reply": "2024-09-27T12:54:20.485611Z"
    },
    "id": "DACTfoDAkIvi",
    "papermill": {
     "duration": 0.023448,
     "end_time": "2024-09-27T12:54:20.489358",
     "exception": false,
     "start_time": "2024-09-27T12:54:20.465910",
     "status": "completed"
    },
    "tags": []
   },
   "outputs": [],
   "source": [
    "df = df.loc[df['qtt_order'] > 0]"
   ]
  },
  {
   "cell_type": "code",
   "execution_count": 6,
   "id": "f7cdb73a",
   "metadata": {
    "execution": {
     "iopub.execute_input": "2024-09-27T12:54:20.507205Z",
     "iopub.status.busy": "2024-09-27T12:54:20.506800Z",
     "iopub.status.idle": "2024-09-27T12:54:20.516807Z",
     "shell.execute_reply": "2024-09-27T12:54:20.515629Z"
    },
    "id": "t3Cb_lWCeiRA",
    "outputId": "bf8ac51c-a14c-4074-df0a-51e6048114b1",
    "papermill": {
     "duration": 0.021878,
     "end_time": "2024-09-27T12:54:20.519357",
     "exception": false,
     "start_time": "2024-09-27T12:54:20.497479",
     "status": "completed"
    },
    "tags": []
   },
   "outputs": [
    {
     "data": {
      "text/plain": [
       "customer_id      int64\n",
       "qtt_order        int64\n",
       "total_spent    float64\n",
       "last_order      object\n",
       "dtype: object"
      ]
     },
     "execution_count": 6,
     "metadata": {},
     "output_type": "execute_result"
    }
   ],
   "source": [
    "df.dtypes"
   ]
  },
  {
   "cell_type": "markdown",
   "id": "b7c42657",
   "metadata": {
    "id": "wKaVRdeVv-AT",
    "papermill": {
     "duration": 0.007709,
     "end_time": "2024-09-27T12:54:20.535210",
     "exception": false,
     "start_time": "2024-09-27T12:54:20.527501",
     "status": "completed"
    },
    "tags": []
   },
   "source": [
    "We convert the last_order column to date format and assign today's date to the variable."
   ]
  },
  {
   "cell_type": "code",
   "execution_count": 7,
   "id": "380f10d5",
   "metadata": {
    "execution": {
     "iopub.execute_input": "2024-09-27T12:54:20.553124Z",
     "iopub.status.busy": "2024-09-27T12:54:20.552720Z",
     "iopub.status.idle": "2024-09-27T12:54:20.571766Z",
     "shell.execute_reply": "2024-09-27T12:54:20.570647Z"
    },
    "id": "3N99ozNAeozC",
    "outputId": "f9c8e83f-f5b4-4e81-84af-6f2386064e02",
    "papermill": {
     "duration": 0.030886,
     "end_time": "2024-09-27T12:54:20.574235",
     "exception": false,
     "start_time": "2024-09-27T12:54:20.543349",
     "status": "completed"
    },
    "tags": []
   },
   "outputs": [
    {
     "data": {
      "text/plain": [
       "Timestamp('2023-01-07 17:00:00')"
      ]
     },
     "execution_count": 7,
     "metadata": {},
     "output_type": "execute_result"
    }
   ],
   "source": [
    "df['last_order'] = pd.to_datetime(df['last_order'])\n",
    "df['last_order'].max()"
   ]
  },
  {
   "cell_type": "code",
   "execution_count": 8,
   "id": "da30b7fe",
   "metadata": {
    "execution": {
     "iopub.execute_input": "2024-09-27T12:54:20.592670Z",
     "iopub.status.busy": "2024-09-27T12:54:20.592236Z",
     "iopub.status.idle": "2024-09-27T12:54:20.597598Z",
     "shell.execute_reply": "2024-09-27T12:54:20.596488Z"
    },
    "id": "-t7X9l39eo1q",
    "papermill": {
     "duration": 0.017312,
     "end_time": "2024-09-27T12:54:20.599910",
     "exception": false,
     "start_time": "2024-09-27T12:54:20.582598",
     "status": "completed"
    },
    "tags": []
   },
   "outputs": [],
   "source": [
    "today_date = dt.datetime(2023, 1, 9)"
   ]
  },
  {
   "cell_type": "markdown",
   "id": "e44b2fab",
   "metadata": {
    "id": "E06lD1abwM2a",
    "papermill": {
     "duration": 0.00822,
     "end_time": "2024-09-27T12:54:20.616642",
     "exception": false,
     "start_time": "2024-09-27T12:54:20.608422",
     "status": "completed"
    },
    "tags": []
   },
   "source": [
    "We create our recency, frequency and monetary variables.\n",
    "\n",
    "Recency, Frequency, and Monetary (**RFM**) analysis is a method used for customer segmentation and behavior analysis. Each component is defined as follows:\n",
    "\n",
    "**1.** **Recency:** This refers to how recently a customer made a purchase. Customers who have made a purchase more recently tend to have a higher loyalty to the business. This metric is used to understand customer engagement.\n",
    "\n",
    "**2.** **Frequency:** This measures how many times a customer has made purchases within a specific period. Customers who shop more frequently are generally considered more valuable to the business. This serves as an indicator of customer loyalty.\n",
    "\n",
    "**3.** **Monetary**: This represents the total amount of money a customer has spent within a specific period. Customers who spend more are viewed as some of the most valuable clients for the business."
   ]
  },
  {
   "cell_type": "code",
   "execution_count": 9,
   "id": "9581a10d",
   "metadata": {
    "execution": {
     "iopub.execute_input": "2024-09-27T12:54:20.635257Z",
     "iopub.status.busy": "2024-09-27T12:54:20.634840Z",
     "iopub.status.idle": "2024-09-27T12:54:20.768375Z",
     "shell.execute_reply": "2024-09-27T12:54:20.767104Z"
    },
    "id": "yCEet914f8FM",
    "outputId": "69cdb826-3a15-42d5-a9a0-e78a9db9ef1f",
    "papermill": {
     "duration": 0.145995,
     "end_time": "2024-09-27T12:54:20.770939",
     "exception": false,
     "start_time": "2024-09-27T12:54:20.624944",
     "status": "completed"
    },
    "tags": []
   },
   "outputs": [
    {
     "data": {
      "text/html": [
       "<div>\n",
       "<style scoped>\n",
       "    .dataframe tbody tr th:only-of-type {\n",
       "        vertical-align: middle;\n",
       "    }\n",
       "\n",
       "    .dataframe tbody tr th {\n",
       "        vertical-align: top;\n",
       "    }\n",
       "\n",
       "    .dataframe thead th {\n",
       "        text-align: right;\n",
       "    }\n",
       "</style>\n",
       "<table border=\"1\" class=\"dataframe\">\n",
       "  <thead>\n",
       "    <tr style=\"text-align: right;\">\n",
       "      <th></th>\n",
       "      <th>customer_id</th>\n",
       "      <th>recency</th>\n",
       "      <th>frequency</th>\n",
       "      <th>monetary</th>\n",
       "    </tr>\n",
       "  </thead>\n",
       "  <tbody>\n",
       "    <tr>\n",
       "      <th>0</th>\n",
       "      <td>0</td>\n",
       "      <td>70</td>\n",
       "      <td>370</td>\n",
       "      <td>189719.04</td>\n",
       "    </tr>\n",
       "    <tr>\n",
       "      <th>1</th>\n",
       "      <td>1</td>\n",
       "      <td>192</td>\n",
       "      <td>48</td>\n",
       "      <td>159092.71</td>\n",
       "    </tr>\n",
       "    <tr>\n",
       "      <th>2</th>\n",
       "      <td>2</td>\n",
       "      <td>140</td>\n",
       "      <td>4</td>\n",
       "      <td>28239.30</td>\n",
       "    </tr>\n",
       "    <tr>\n",
       "      <th>3</th>\n",
       "      <td>3</td>\n",
       "      <td>192</td>\n",
       "      <td>157</td>\n",
       "      <td>378630.99</td>\n",
       "    </tr>\n",
       "    <tr>\n",
       "      <th>4</th>\n",
       "      <td>4</td>\n",
       "      <td>296</td>\n",
       "      <td>16</td>\n",
       "      <td>84763.20</td>\n",
       "    </tr>\n",
       "  </tbody>\n",
       "</table>\n",
       "</div>"
      ],
      "text/plain": [
       "   customer_id  recency  frequency   monetary\n",
       "0            0       70        370  189719.04\n",
       "1            1      192         48  159092.71\n",
       "2            2      140          4   28239.30\n",
       "3            3      192        157  378630.99\n",
       "4            4      296         16   84763.20"
      ]
     },
     "execution_count": 9,
     "metadata": {},
     "output_type": "execute_result"
    }
   ],
   "source": [
    "df['recency'] = [(today_date - date).days for date in df['last_order']]\n",
    "df['frequency'] = df['qtt_order']\n",
    "df['monetary'] = df['total_spent']\n",
    "rfm = df[['customer_id','recency', 'frequency', 'monetary']]\n",
    "rfm.head()"
   ]
  },
  {
   "cell_type": "code",
   "execution_count": 10,
   "id": "65f2f396",
   "metadata": {
    "execution": {
     "iopub.execute_input": "2024-09-27T12:54:20.790373Z",
     "iopub.status.busy": "2024-09-27T12:54:20.789941Z",
     "iopub.status.idle": "2024-09-27T12:54:20.824592Z",
     "shell.execute_reply": "2024-09-27T12:54:20.823552Z"
    },
    "id": "rU6p3kuBeo4J",
    "outputId": "e1612e63-fee4-4758-9f2e-63c036ee566d",
    "papermill": {
     "duration": 0.047491,
     "end_time": "2024-09-27T12:54:20.827116",
     "exception": false,
     "start_time": "2024-09-27T12:54:20.779625",
     "status": "completed"
    },
    "tags": []
   },
   "outputs": [
    {
     "data": {
      "text/html": [
       "<div>\n",
       "<style scoped>\n",
       "    .dataframe tbody tr th:only-of-type {\n",
       "        vertical-align: middle;\n",
       "    }\n",
       "\n",
       "    .dataframe tbody tr th {\n",
       "        vertical-align: top;\n",
       "    }\n",
       "\n",
       "    .dataframe thead th {\n",
       "        text-align: right;\n",
       "    }\n",
       "</style>\n",
       "<table border=\"1\" class=\"dataframe\">\n",
       "  <thead>\n",
       "    <tr style=\"text-align: right;\">\n",
       "      <th></th>\n",
       "      <th>customer_id</th>\n",
       "      <th>recency</th>\n",
       "      <th>frequency</th>\n",
       "      <th>monetary</th>\n",
       "      <th>recency_score</th>\n",
       "      <th>frequency_score</th>\n",
       "      <th>monetary_score</th>\n",
       "    </tr>\n",
       "  </thead>\n",
       "  <tbody>\n",
       "    <tr>\n",
       "      <th>0</th>\n",
       "      <td>0</td>\n",
       "      <td>70</td>\n",
       "      <td>370</td>\n",
       "      <td>189719.04</td>\n",
       "      <td>5</td>\n",
       "      <td>5</td>\n",
       "      <td>4</td>\n",
       "    </tr>\n",
       "    <tr>\n",
       "      <th>1</th>\n",
       "      <td>1</td>\n",
       "      <td>192</td>\n",
       "      <td>48</td>\n",
       "      <td>159092.71</td>\n",
       "      <td>3</td>\n",
       "      <td>3</td>\n",
       "      <td>3</td>\n",
       "    </tr>\n",
       "    <tr>\n",
       "      <th>2</th>\n",
       "      <td>2</td>\n",
       "      <td>140</td>\n",
       "      <td>4</td>\n",
       "      <td>28239.30</td>\n",
       "      <td>4</td>\n",
       "      <td>1</td>\n",
       "      <td>1</td>\n",
       "    </tr>\n",
       "    <tr>\n",
       "      <th>3</th>\n",
       "      <td>3</td>\n",
       "      <td>192</td>\n",
       "      <td>157</td>\n",
       "      <td>378630.99</td>\n",
       "      <td>3</td>\n",
       "      <td>5</td>\n",
       "      <td>5</td>\n",
       "    </tr>\n",
       "    <tr>\n",
       "      <th>4</th>\n",
       "      <td>4</td>\n",
       "      <td>296</td>\n",
       "      <td>16</td>\n",
       "      <td>84763.20</td>\n",
       "      <td>2</td>\n",
       "      <td>1</td>\n",
       "      <td>2</td>\n",
       "    </tr>\n",
       "  </tbody>\n",
       "</table>\n",
       "</div>"
      ],
      "text/plain": [
       "   customer_id  recency  frequency   monetary recency_score frequency_score monetary_score\n",
       "0            0       70        370  189719.04             5               5              4\n",
       "1            1      192         48  159092.71             3               3              3\n",
       "2            2      140          4   28239.30             4               1              1\n",
       "3            3      192        157  378630.99             3               5              5\n",
       "4            4      296         16   84763.20             2               1              2"
      ]
     },
     "execution_count": 10,
     "metadata": {},
     "output_type": "execute_result"
    }
   ],
   "source": [
    "rfm['recency_score'] = pd.qcut(x= rfm['recency'], q=5, labels= [5, 4, 3, 2, 1])\n",
    "rfm['frequency_score'] = pd.qcut(x=rfm['frequency'].rank(method='min'), q=5, labels= [1, 2, 3, 4, 5])\n",
    "rfm['monetary_score'] = pd.qcut(x=rfm['monetary'], q=5, labels= [1, 2, 3, 4, 5])\n",
    "rfm.head()"
   ]
  },
  {
   "cell_type": "code",
   "execution_count": 11,
   "id": "50a84b3d",
   "metadata": {
    "execution": {
     "iopub.execute_input": "2024-09-27T12:54:20.847424Z",
     "iopub.status.busy": "2024-09-27T12:54:20.846459Z",
     "iopub.status.idle": "2024-09-27T12:54:20.874116Z",
     "shell.execute_reply": "2024-09-27T12:54:20.873048Z"
    },
    "id": "sedCgRkYeo6w",
    "outputId": "9e2b6856-faaa-4b9e-a346-9fd5701d8105",
    "papermill": {
     "duration": 0.040476,
     "end_time": "2024-09-27T12:54:20.876566",
     "exception": false,
     "start_time": "2024-09-27T12:54:20.836090",
     "status": "completed"
    },
    "tags": []
   },
   "outputs": [
    {
     "data": {
      "text/html": [
       "<div>\n",
       "<style scoped>\n",
       "    .dataframe tbody tr th:only-of-type {\n",
       "        vertical-align: middle;\n",
       "    }\n",
       "\n",
       "    .dataframe tbody tr th {\n",
       "        vertical-align: top;\n",
       "    }\n",
       "\n",
       "    .dataframe thead th {\n",
       "        text-align: right;\n",
       "    }\n",
       "</style>\n",
       "<table border=\"1\" class=\"dataframe\">\n",
       "  <thead>\n",
       "    <tr style=\"text-align: right;\">\n",
       "      <th></th>\n",
       "      <th>count</th>\n",
       "      <th>mean</th>\n",
       "      <th>std</th>\n",
       "      <th>min</th>\n",
       "      <th>25%</th>\n",
       "      <th>50%</th>\n",
       "      <th>75%</th>\n",
       "      <th>max</th>\n",
       "    </tr>\n",
       "  </thead>\n",
       "  <tbody>\n",
       "    <tr>\n",
       "      <th>customer_id</th>\n",
       "      <td>9985.0</td>\n",
       "      <td>4998.189084</td>\n",
       "      <td>2886.868345</td>\n",
       "      <td>0.00</td>\n",
       "      <td>2498.00</td>\n",
       "      <td>4996.00</td>\n",
       "      <td>7498.00</td>\n",
       "      <td>9999.00</td>\n",
       "    </tr>\n",
       "    <tr>\n",
       "      <th>recency</th>\n",
       "      <td>9985.0</td>\n",
       "      <td>213.963345</td>\n",
       "      <td>92.044040</td>\n",
       "      <td>1.00</td>\n",
       "      <td>136.00</td>\n",
       "      <td>221.00</td>\n",
       "      <td>291.00</td>\n",
       "      <td>408.00</td>\n",
       "    </tr>\n",
       "    <tr>\n",
       "      <th>frequency</th>\n",
       "      <td>9985.0</td>\n",
       "      <td>102.931197</td>\n",
       "      <td>135.632965</td>\n",
       "      <td>1.00</td>\n",
       "      <td>25.00</td>\n",
       "      <td>54.00</td>\n",
       "      <td>118.00</td>\n",
       "      <td>1274.00</td>\n",
       "    </tr>\n",
       "    <tr>\n",
       "      <th>monetary</th>\n",
       "      <td>9985.0</td>\n",
       "      <td>226794.454758</td>\n",
       "      <td>252710.715381</td>\n",
       "      <td>833.02</td>\n",
       "      <td>63582.77</td>\n",
       "      <td>138330.44</td>\n",
       "      <td>289040.79</td>\n",
       "      <td>2181515.12</td>\n",
       "    </tr>\n",
       "  </tbody>\n",
       "</table>\n",
       "</div>"
      ],
      "text/plain": [
       "              count           mean            std     min       25%        50%        75%         max\n",
       "customer_id  9985.0    4998.189084    2886.868345    0.00   2498.00    4996.00    7498.00     9999.00\n",
       "recency      9985.0     213.963345      92.044040    1.00    136.00     221.00     291.00      408.00\n",
       "frequency    9985.0     102.931197     135.632965    1.00     25.00      54.00     118.00     1274.00\n",
       "monetary     9985.0  226794.454758  252710.715381  833.02  63582.77  138330.44  289040.79  2181515.12"
      ]
     },
     "execution_count": 11,
     "metadata": {},
     "output_type": "execute_result"
    }
   ],
   "source": [
    "rfm.describe().T"
   ]
  },
  {
   "cell_type": "code",
   "execution_count": 12,
   "id": "a9d12177",
   "metadata": {
    "execution": {
     "iopub.execute_input": "2024-09-27T12:54:20.897949Z",
     "iopub.status.busy": "2024-09-27T12:54:20.896991Z",
     "iopub.status.idle": "2024-09-27T12:54:20.908092Z",
     "shell.execute_reply": "2024-09-27T12:54:20.907057Z"
    },
    "id": "h9rz4769eo9g",
    "papermill": {
     "duration": 0.024738,
     "end_time": "2024-09-27T12:54:20.910767",
     "exception": false,
     "start_time": "2024-09-27T12:54:20.886029",
     "status": "completed"
    },
    "tags": []
   },
   "outputs": [],
   "source": [
    "rfm['rf_score'] = rfm['recency_score'].astype(str) + rfm['frequency_score'].astype(str)"
   ]
  },
  {
   "cell_type": "code",
   "execution_count": 13,
   "id": "fbdf1f7c",
   "metadata": {
    "execution": {
     "iopub.execute_input": "2024-09-27T12:54:20.932041Z",
     "iopub.status.busy": "2024-09-27T12:54:20.931064Z",
     "iopub.status.idle": "2024-09-27T12:54:20.937320Z",
     "shell.execute_reply": "2024-09-27T12:54:20.936231Z"
    },
    "id": "V0AHKmo5epBR",
    "papermill": {
     "duration": 0.019356,
     "end_time": "2024-09-27T12:54:20.939659",
     "exception": false,
     "start_time": "2024-09-27T12:54:20.920303",
     "status": "completed"
    },
    "tags": []
   },
   "outputs": [],
   "source": [
    "seg_map = {\n",
    "        r'[1-2][1-2]': 'hibernating',  # birinci ve ikinci elemanında 1 ya da 2 görürsen 'hibernating' diye isimlendir\n",
    "        r'[1-2][3-4]': 'at_Risk',\n",
    "        r'[1-2]5': 'cant_loose',\n",
    "        r'3[1-2]': 'about_to_sleep',\n",
    "        r'33': 'need_attention',  # birinci ve ikini elemanı 3 ise 'need_attention' diye isimlendir\n",
    "        r'[3-4][4-5]': 'loyal_customers',\n",
    "        r'41': 'promising',\n",
    "        r'51': 'new_customers',\n",
    "        r'[4-5][2-3]': 'potential_loyalists',\n",
    "        r'5[4-5]': 'champions'\n",
    "    }"
   ]
  },
  {
   "cell_type": "code",
   "execution_count": 14,
   "id": "1836c66f",
   "metadata": {
    "execution": {
     "iopub.execute_input": "2024-09-27T12:54:20.961112Z",
     "iopub.status.busy": "2024-09-27T12:54:20.960296Z",
     "iopub.status.idle": "2024-09-27T12:54:21.167097Z",
     "shell.execute_reply": "2024-09-27T12:54:21.166016Z"
    },
    "id": "3FH6bVaOlhhh",
    "papermill": {
     "duration": 0.22069,
     "end_time": "2024-09-27T12:54:21.170048",
     "exception": false,
     "start_time": "2024-09-27T12:54:20.949358",
     "status": "completed"
    },
    "tags": []
   },
   "outputs": [],
   "source": [
    "rfm['segment'] = rfm['rf_score'].replace(seg_map, regex=True)"
   ]
  },
  {
   "cell_type": "code",
   "execution_count": 15,
   "id": "86eefc84",
   "metadata": {
    "execution": {
     "iopub.execute_input": "2024-09-27T12:54:21.191207Z",
     "iopub.status.busy": "2024-09-27T12:54:21.190804Z",
     "iopub.status.idle": "2024-09-27T12:54:21.211832Z",
     "shell.execute_reply": "2024-09-27T12:54:21.210546Z"
    },
    "id": "lxcH0SDWls9Z",
    "outputId": "4efbc005-44ad-48e4-9f0f-399a69a0d0fd",
    "papermill": {
     "duration": 0.034581,
     "end_time": "2024-09-27T12:54:21.214385",
     "exception": false,
     "start_time": "2024-09-27T12:54:21.179804",
     "status": "completed"
    },
    "tags": []
   },
   "outputs": [
    {
     "data": {
      "text/html": [
       "<div>\n",
       "<style scoped>\n",
       "    .dataframe tbody tr th:only-of-type {\n",
       "        vertical-align: middle;\n",
       "    }\n",
       "\n",
       "    .dataframe tbody tr th {\n",
       "        vertical-align: top;\n",
       "    }\n",
       "\n",
       "    .dataframe thead th {\n",
       "        text-align: right;\n",
       "    }\n",
       "</style>\n",
       "<table border=\"1\" class=\"dataframe\">\n",
       "  <thead>\n",
       "    <tr style=\"text-align: right;\">\n",
       "      <th></th>\n",
       "      <th>recency</th>\n",
       "      <th>frequency</th>\n",
       "      <th>monetary</th>\n",
       "    </tr>\n",
       "    <tr>\n",
       "      <th>segment</th>\n",
       "      <th></th>\n",
       "      <th></th>\n",
       "      <th></th>\n",
       "    </tr>\n",
       "  </thead>\n",
       "  <tbody>\n",
       "    <tr>\n",
       "      <th>about_to_sleep</th>\n",
       "      <td>221.329365</td>\n",
       "      <td>21.026455</td>\n",
       "      <td>160712.618519</td>\n",
       "    </tr>\n",
       "    <tr>\n",
       "      <th>at_Risk</th>\n",
       "      <td>306.508452</td>\n",
       "      <td>77.783638</td>\n",
       "      <td>227885.143070</td>\n",
       "    </tr>\n",
       "    <tr>\n",
       "      <th>cant_loose</th>\n",
       "      <td>305.620199</td>\n",
       "      <td>306.216216</td>\n",
       "      <td>321558.833585</td>\n",
       "    </tr>\n",
       "    <tr>\n",
       "      <th>champions</th>\n",
       "      <td>83.331823</td>\n",
       "      <td>214.851642</td>\n",
       "      <td>340267.283262</td>\n",
       "    </tr>\n",
       "    <tr>\n",
       "      <th>hibernating</th>\n",
       "      <td>309.531198</td>\n",
       "      <td>19.863611</td>\n",
       "      <td>141999.742281</td>\n",
       "    </tr>\n",
       "    <tr>\n",
       "      <th>loyal_customers</th>\n",
       "      <td>185.204250</td>\n",
       "      <td>211.605077</td>\n",
       "      <td>301316.650809</td>\n",
       "    </tr>\n",
       "    <tr>\n",
       "      <th>need_attention</th>\n",
       "      <td>218.172589</td>\n",
       "      <td>55.276650</td>\n",
       "      <td>225756.396929</td>\n",
       "    </tr>\n",
       "    <tr>\n",
       "      <th>new_customers</th>\n",
       "      <td>84.211144</td>\n",
       "      <td>10.994135</td>\n",
       "      <td>139871.108328</td>\n",
       "    </tr>\n",
       "    <tr>\n",
       "      <th>potential_loyalists</th>\n",
       "      <td>117.238614</td>\n",
       "      <td>43.456062</td>\n",
       "      <td>205740.483303</td>\n",
       "    </tr>\n",
       "    <tr>\n",
       "      <th>promising</th>\n",
       "      <td>152.306849</td>\n",
       "      <td>11.336986</td>\n",
       "      <td>149327.320247</td>\n",
       "    </tr>\n",
       "  </tbody>\n",
       "</table>\n",
       "</div>"
      ],
      "text/plain": [
       "                        recency   frequency       monetary\n",
       "segment                                                   \n",
       "about_to_sleep       221.329365   21.026455  160712.618519\n",
       "at_Risk              306.508452   77.783638  227885.143070\n",
       "cant_loose           305.620199  306.216216  321558.833585\n",
       "champions             83.331823  214.851642  340267.283262\n",
       "hibernating          309.531198   19.863611  141999.742281\n",
       "loyal_customers      185.204250  211.605077  301316.650809\n",
       "need_attention       218.172589   55.276650  225756.396929\n",
       "new_customers         84.211144   10.994135  139871.108328\n",
       "potential_loyalists  117.238614   43.456062  205740.483303\n",
       "promising            152.306849   11.336986  149327.320247"
      ]
     },
     "execution_count": 15,
     "metadata": {},
     "output_type": "execute_result"
    }
   ],
   "source": [
    "rfm.groupby('segment').agg({'recency':'mean',\n",
    "                            'frequency':'mean',\n",
    "                            'monetary':'mean'})"
   ]
  },
  {
   "cell_type": "markdown",
   "id": "2db34b4d",
   "metadata": {
    "id": "5vMQzUfMuki0",
    "papermill": {
     "duration": 0.009894,
     "end_time": "2024-09-27T12:54:21.234616",
     "exception": false,
     "start_time": "2024-09-27T12:54:21.224722",
     "status": "completed"
    },
    "tags": []
   },
   "source": [
    "##Functionalization of the Entire Process"
   ]
  },
  {
   "cell_type": "code",
   "execution_count": 16,
   "id": "4d513e73",
   "metadata": {
    "execution": {
     "iopub.execute_input": "2024-09-27T12:54:21.256805Z",
     "iopub.status.busy": "2024-09-27T12:54:21.255884Z",
     "iopub.status.idle": "2024-09-27T12:54:21.268546Z",
     "shell.execute_reply": "2024-09-27T12:54:21.267360Z"
    },
    "id": "YKY8UHNesoZc",
    "papermill": {
     "duration": 0.026504,
     "end_time": "2024-09-27T12:54:21.271080",
     "exception": false,
     "start_time": "2024-09-27T12:54:21.244576",
     "status": "completed"
    },
    "tags": []
   },
   "outputs": [],
   "source": [
    "def rfm_segments(year, month, day):\n",
    "    df = pd.read_csv(\"customer_segmentation_10k.csv\")\n",
    "    df = df.loc[df['qtt_order'] > 0]\n",
    "    df['last_order'] = pd.to_datetime(df['last_order'])\n",
    "    today_date = dt.datetime(year, month, day)\n",
    "    #RFM\n",
    "    df['recency'] = [(today_date - date).days for date in df['last_order']]\n",
    "    df['frequency'] = df['qtt_order']\n",
    "    df['monetary'] = df['total_spent']\n",
    "    rfm = df[['customer_id','recency', 'frequency', 'monetary']]\n",
    "    #CATEGORIZATION\n",
    "    rfm['recency_score'] = pd.qcut(x= rfm['recency'], q=5, labels= [5, 4, 3, 2, 1])\n",
    "    rfm['frequency_score'] = pd.qcut(x=rfm['frequency'].rank(method='min'), q=5, labels= [1, 2, 3, 4, 5])\n",
    "    rfm['monetary_score'] = pd.qcut(x=rfm['monetary'], q=5, labels= [1, 2, 3, 4, 5])\n",
    "    #SEGMENTATION\n",
    "    rfm['rf_score'] = rfm['recency_score'].astype(str) + rfm['frequency_score'].astype(str)\n",
    "    seg_map = {\n",
    "        r'[1-2][1-2]': 'hibernating',  # birinci ve ikinci elemanında 1 ya da 2 görürsen 'hibernating' diye isimlendir\n",
    "        r'[1-2][3-4]': 'at_Risk',\n",
    "        r'[1-2]5': 'cant_loose',\n",
    "        r'3[1-2]': 'about_to_sleep',\n",
    "        r'33': 'need_attention',  # birinci ve ikini elemanı 3 ise 'need_attention' diye isimlendir\n",
    "        r'[3-4][4-5]': 'loyal_customers',\n",
    "        r'41': 'promising',\n",
    "        r'51': 'new_customers',\n",
    "        r'[4-5][2-3]': 'potential_loyalists',\n",
    "        r'5[4-5]': 'champions'\n",
    "    }\n",
    "    rfm['segment'] = rfm['rf_score'].replace(seg_map, regex=True)\n",
    "    return rfm\n"
   ]
  },
  {
   "cell_type": "markdown",
   "id": "3e50e929",
   "metadata": {
    "id": "s975lUZfp-DT",
    "papermill": {
     "duration": 0.009829,
     "end_time": "2024-09-27T12:54:21.290949",
     "exception": false,
     "start_time": "2024-09-27T12:54:21.281120",
     "status": "completed"
    },
    "tags": []
   },
   "source": [
    "##Lists to Go to the Advertising Department\n",
    "\n",
    "\n"
   ]
  },
  {
   "cell_type": "code",
   "execution_count": 17,
   "id": "30ec1843",
   "metadata": {
    "execution": {
     "iopub.execute_input": "2024-09-27T12:54:21.314510Z",
     "iopub.status.busy": "2024-09-27T12:54:21.313403Z",
     "iopub.status.idle": "2024-09-27T12:54:21.324854Z",
     "shell.execute_reply": "2024-09-27T12:54:21.323725Z"
    },
    "id": "K1NwnAFip5ML",
    "papermill": {
     "duration": 0.025744,
     "end_time": "2024-09-27T12:54:21.327130",
     "exception": false,
     "start_time": "2024-09-27T12:54:21.301386",
     "status": "completed"
    },
    "tags": []
   },
   "outputs": [],
   "source": [
    "def adv_lists():\n",
    "    about_to_sleep = rfm.loc[rfm['segment']== 'about_to_sleep', 'customer_id']\n",
    "    at_Risk = rfm.loc[rfm['segment']== 'at_Risk', 'customer_id']\n",
    "    cant_loose = rfm.loc[rfm['segment']== 'cant_loose', 'customer_id']\n",
    "    champions = rfm.loc[rfm['segment']== 'champions', 'customer_id']\n",
    "    hibernating = rfm.loc[rfm['segment']== 'hibernating', 'customer_id']\n",
    "    loyal_customers = rfm.loc[rfm['segment']== 'loyal_customers', 'customer_id']\n",
    "    need_attention = rfm.loc[rfm['segment']== 'need_attention', 'customer_id']\n",
    "    new_customers = rfm.loc[rfm['segment']== 'new_customers', 'customer_id']\n",
    "    potential_loyalists\t = rfm.loc[rfm['segment']== 'potential_loyalists', 'customer_id']\n",
    "    promising = rfm.loc[rfm['segment']== 'promising', 'customer_id']\n",
    "\n",
    "    rfm.to_csv('about_to_sleep.csv', index=False)\n",
    "    at_Risk.to_csv('at_Risk.csv', index=False)\n",
    "    cant_loose.to_csv('cant_loose.csv', index=False)\n",
    "    champions.to_csv('champions.csv', index=False)\n",
    "    hibernating.to_csv('hibernating.csv', index=False)\n",
    "    loyal_customers.to_csv('loyal_customers.csv', index=False)\n",
    "    need_attention.to_csv('need_attention.csv', index=False)\n",
    "    new_customers.to_csv('new_customers.csv', index=False)\n",
    "    potential_loyalists.to_csv('potential_loyalists.csv', index=False)\n",
    "    promising.to_csv('promising.csv', index=False)"
   ]
  }
 ],
 "metadata": {
  "colab": {
   "provenance": []
  },
  "kaggle": {
   "accelerator": "none",
   "dataSources": [
    {
     "datasetId": 2455948,
     "sourceId": 4160545,
     "sourceType": "datasetVersion"
    }
   ],
   "isGpuEnabled": false,
   "isInternetEnabled": false,
   "language": "python",
   "sourceType": "notebook"
  },
  "kernelspec": {
   "display_name": "Python 3",
   "name": "python3"
  },
  "language_info": {
   "codemirror_mode": {
    "name": "ipython",
    "version": 3
   },
   "file_extension": ".py",
   "mimetype": "text/x-python",
   "name": "python",
   "nbconvert_exporter": "python",
   "pygments_lexer": "ipython3",
   "version": "3.10.14"
  },
  "papermill": {
   "default_parameters": {},
   "duration": 5.505626,
   "end_time": "2024-09-27T12:54:21.858678",
   "environment_variables": {},
   "exception": null,
   "input_path": "__notebook__.ipynb",
   "output_path": "__notebook__.ipynb",
   "parameters": {},
   "start_time": "2024-09-27T12:54:16.353052",
   "version": "2.6.0"
  }
 },
 "nbformat": 4,
 "nbformat_minor": 5
}
